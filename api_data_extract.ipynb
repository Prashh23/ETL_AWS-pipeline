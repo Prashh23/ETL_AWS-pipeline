{
 "cells": [
  {
   "cell_type": "code",
   "execution_count": null,
   "id": "0b70b1fd",
   "metadata": {},
   "outputs": [],
   "source": [
    "import json\n",
    "import os\n",
    "import spotipy\n",
    "from spotipy.oauth2 import SpotifyClientCredentials\n",
    "import boto3\n",
    "from datetime import datetime\n",
    "\n",
    "\n"
   ]
  },
  {
   "cell_type": "code",
   "execution_count": null,
   "id": "946a5029",
   "metadata": {},
   "outputs": [],
   "source": [
    "def lambda_handler(event, context):\n",
    "    # TODO implement\n",
    "    client_credentials_manager=SpotifyClientCredentials(client_id=\"2a0453da17da4eadae565de47a18dec6\", client_secret= \"d5242d01f3f94474af2a64d72a56e445\")\n",
    "    sp = spotipy.Spotify(client_credentials_manager=client_credentials_manager)\n",
    "    playlist_link = \"https://open.spotify.com/playlist/4zzUm9eZmeb4t4nUCaNoo5\"\n",
    "    playlist_URI = playlist_link.split(\"/\")[-1]\n",
    "    \n",
    "    spotify_data=sp.playlist_tracks(playlist_URI)\n",
    "    print(spotify_data)\n",
    "    \n",
    "    \n",
    "    client = boto3.client(\"s3\")\n",
    "    filename = \"spotify_raw_\" + str(datetime.now()) + \".json\"\n",
    "    client.put_object(\n",
    "        Bucket= \"spotify-etl-prash\",\n",
    "        Key = \"raw_data/to_processed/\" + filename,\n",
    "        Body = json.dumps(spotify_data)\n",
    "        )"
   ]
  }
 ],
 "metadata": {
  "kernelspec": {
   "display_name": "Python 3 (ipykernel)",
   "language": "python",
   "name": "python3"
  },
  "language_info": {
   "codemirror_mode": {
    "name": "ipython",
    "version": 3
   },
   "file_extension": ".py",
   "mimetype": "text/x-python",
   "name": "python",
   "nbconvert_exporter": "python",
   "pygments_lexer": "ipython3",
   "version": "3.9.7"
  }
 },
 "nbformat": 4,
 "nbformat_minor": 5
}
